{
 "cells": [
  {
   "cell_type": "code",
   "execution_count": 1,
   "id": "db90c0f0",
   "metadata": {},
   "outputs": [],
   "source": [
    "%matplotlib inline"
   ]
  },
  {
   "cell_type": "code",
   "execution_count": 2,
   "id": "f3139913",
   "metadata": {},
   "outputs": [
    {
     "name": "stdout",
     "output_type": "stream",
     "text": [
      "2022-07-06 22:51:20,907 - root - INFO - No PennyLane configuration file found.\n"
     ]
    }
   ],
   "source": [
    "import matplotlib.pyplot as plt\n",
    "import pennylane.numpy as np\n",
    "from entangling_dropout.pipelines.data_science.nodes import create_qnode"
   ]
  },
  {
   "cell_type": "code",
   "execution_count": 3,
   "id": "a5b47779",
   "metadata": {},
   "outputs": [],
   "source": [
    "params = catalog.datasets.trained_params.load()\n",
    "x_train = catalog.datasets.x_values.load()\n",
    "y_train = catalog.datasets.y_values.load()\n",
    "x_scale = catalog.datasets.scale_x.load()\n",
    "y_scale = catalog.datasets.scale_y.load()"
   ]
  },
  {
   "cell_type": "code",
   "execution_count": 4,
   "id": "74ea0f55",
   "metadata": {},
   "outputs": [],
   "source": [
    "qnode = create_qnode(\n",
    "    wires=catalog.datasets.params__wires.load(), \n",
    "    layers=catalog.datasets.params__layers.load(), \n",
    "    shots=catalog.datasets.params__shots.load())"
   ]
  },
  {
   "cell_type": "code",
   "execution_count": 5,
   "id": "01348331",
   "metadata": {},
   "outputs": [],
   "source": [
    "def generate_plot(x_values, y_values, y_trained, x_trained, x_scale, y_scale):\n",
    "    # 100 linearly spaced numbers\n",
    "    x = np.linspace(-1,1,100)\n",
    "\n",
    "    # the function, which is y = sin(x) here\n",
    "    y = np.sin(x*np.pi)\n",
    "\n",
    "    # setting the axes at the centre\n",
    "    fig = plt.figure()\n",
    "    ax = fig.add_subplot(1, 1, 1)\n",
    "    ax.spines['bottom'].set_position('center')\n",
    "    ax.spines['left'].set_position('center')\n",
    "    ax.spines['right'].set_color('none')\n",
    "    ax.spines['top'].set_color('none')\n",
    "    ax.xaxis.set_ticks_position('bottom')\n",
    "    ax.yaxis.set_ticks_position('left')\n",
    "\n",
    "    # plot the function\n",
    "    plt.plot(x, y, 'b--')\n",
    "    plt.plot(x_values*x_scale, y_values*y_scale, 'b.')\n",
    "    plt.plot(x_trained*x_scale, y_trained*y_scale, '-', color='orange')\n",
    "\n",
    "    # show the plot\n",
    "    plt.show()"
   ]
  },
  {
   "cell_type": "code",
   "execution_count": 6,
   "id": "711913e5",
   "metadata": {},
   "outputs": [],
   "source": [
    "x_trained = np.linspace(-1, 1, 100)\n",
    "y_trained = np.array([qnode(x, params).unwrap()[0] for x in x_trained])"
   ]
  },
  {
   "cell_type": "code",
   "execution_count": 7,
   "id": "26e721bc",
   "metadata": {},
   "outputs": [
    {
     "data": {
      "image/png": "[encoded data removed]",
      "text/plain": [
       "<Figure size 432x288 with 1 Axes>"
      ]
     },
     "metadata": {
      "needs_background": "light"
     },
     "output_type": "display_data"
    }
   ],
   "source": [
    "generate_plot(x_train, y_train, y_trained, x_trained, x_scale, y_scale)"
   ]
  }
 ],
 "metadata": {
  "kernelspec": {
   "display_name": "Kedro (entangling_dropout)",
   "language": "python",
   "name": "kedro_entangling_dropout"
  },
  "language_info": {
   "codemirror_mode": {
    "name": "ipython",
    "version": 3
   },
   "file_extension": ".py",
   "mimetype": "text/x-python",
   "name": "python",
   "nbconvert_exporter": "python",
   "pygments_lexer": "ipython3",
   "version": "3.8.11"
  }
 },
 "nbformat": 4,
 "nbformat_minor": 5
}
